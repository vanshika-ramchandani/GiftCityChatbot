{
  "nbformat": 4,
  "nbformat_minor": 0,
  "metadata": {
    "colab": {
      "provenance": [],
      "authorship_tag": "ABX9TyPQTQxKLy2clXsY3EpeW0Du",
      "include_colab_link": true
    },
    "kernelspec": {
      "name": "python3",
      "display_name": "Python 3"
    },
    "language_info": {
      "name": "python"
    }
  },
  "cells": [
    {
      "cell_type": "markdown",
      "metadata": {
        "id": "view-in-github",
        "colab_type": "text"
      },
      "source": [
        "<a href=\"https://colab.research.google.com/github/vanshika-ramchandani/GiftCityChatbot/blob/main/GIftCityChatbot.ipynb\" target=\"_parent\"><img src=\"https://colab.research.google.com/assets/colab-badge.svg\" alt=\"Open In Colab\"/></a>"
      ]
    },
    {
      "cell_type": "code",
      "source": [
        "!pip install faiss-cpu pymupdf"
      ],
      "metadata": {
        "colab": {
          "base_uri": "https://localhost:8080/"
        },
        "id": "dJJy4QvXpVQE",
        "outputId": "ae062492-caa6-4467-9261-d4de75578168"
      },
      "execution_count": null,
      "outputs": [
        {
          "output_type": "stream",
          "name": "stdout",
          "text": [
            "Collecting faiss-cpu\n",
            "  Downloading faiss_cpu-1.10.0-cp311-cp311-manylinux_2_28_x86_64.whl.metadata (4.4 kB)\n",
            "Collecting pymupdf\n",
            "  Downloading pymupdf-1.25.3-cp39-abi3-manylinux2014_x86_64.manylinux_2_17_x86_64.whl.metadata (3.4 kB)\n",
            "Requirement already satisfied: numpy<3.0,>=1.25.0 in /usr/local/lib/python3.11/dist-packages (from faiss-cpu) (1.26.4)\n",
            "Requirement already satisfied: packaging in /usr/local/lib/python3.11/dist-packages (from faiss-cpu) (24.2)\n",
            "Downloading faiss_cpu-1.10.0-cp311-cp311-manylinux_2_28_x86_64.whl (30.7 MB)\n",
            "\u001b[2K   \u001b[90m━━━━━━━━━━━━━━━━━━━━━━━━━━━━━━━━━━━━━━━━\u001b[0m \u001b[32m30.7/30.7 MB\u001b[0m \u001b[31m39.7 MB/s\u001b[0m eta \u001b[36m0:00:00\u001b[0m\n",
            "\u001b[?25hDownloading pymupdf-1.25.3-cp39-abi3-manylinux2014_x86_64.manylinux_2_17_x86_64.whl (20.0 MB)\n",
            "\u001b[2K   \u001b[90m━━━━━━━━━━━━━━━━━━━━━━━━━━━━━━━━━━━━━━━━\u001b[0m \u001b[32m20.0/20.0 MB\u001b[0m \u001b[31m54.1 MB/s\u001b[0m eta \u001b[36m0:00:00\u001b[0m\n",
            "\u001b[?25hInstalling collected packages: pymupdf, faiss-cpu\n",
            "Successfully installed faiss-cpu-1.10.0 pymupdf-1.25.3\n"
          ]
        }
      ]
    },
    {
      "cell_type": "code",
      "execution_count": null,
      "metadata": {
        "colab": {
          "base_uri": "https://localhost:8080/"
        },
        "id": "Fz9W-PMcpAcU",
        "outputId": "7e329ac9-afba-4ead-cefd-145434a34fec"
      },
      "outputs": [
        {
          "output_type": "stream",
          "name": "stderr",
          "text": [
            "[nltk_data] Downloading package punkt_tab to /root/nltk_data...\n",
            "[nltk_data]   Package punkt_tab is already up-to-date!\n"
          ]
        },
        {
          "output_type": "stream",
          "name": "stdout",
          "text": [
            "\n",
            "Chatbot: Hey there! How can I help you today?.\n",
            "\n",
            "You: hi\n",
            "\n",
            "Chatbot:\n",
            "\n",
            "Hello! Ask me anything about GIFT City.\n",
            "\n",
            "--------------------------------------------------\n",
            "\n",
            "You: what is gift city?\n",
            "\n",
            "Chatbot:\n",
            "\n",
            "GIFT City is a well-planned, smart, technology-\n",
            "enabled city, with world-class office and residential\n",
            "facilities developing to become a financial and\n",
            "technology gateway of India.\n",
            "\n",
            "--------------------------------------------------\n",
            "\n",
            "You: what are the permitted categories of insurance intermediaries?\n",
            "\n",
            "Chatbot:\n",
            "\n",
            "• The permitted categories of Insurance Intermediaries are as follows:\n",
            "o\n",
            "Insurance Broker;\n",
            "o\n",
            "Corporate agent;\n",
            "o\n",
            "Surveyor and loss assessor;\n",
            "o\n",
            "Third Party Administrator - health services;\n",
            "o\n",
            "Any other category as may be recognized by the IRDAI.\n",
            "\n",
            "--------------------------------------------------\n",
            "\n",
            "You: bye\n",
            "\n",
            "Chatbot: Goodbye! Have a great day!\n",
            "\n"
          ]
        }
      ],
      "source": [
        "import fitz\n",
        "import faiss\n",
        "import numpy as np\n",
        "import re\n",
        "import tensorflow_hub as hub\n",
        "from nltk.tokenize import sent_tokenize\n",
        "import nltk\n",
        "import random\n",
        "\n",
        "nltk.download(\"punkt_tab\")\n",
        "\n",
        "def extract_text_from_pdf(pdf_path):\n",
        "    doc = fitz.open(pdf_path)\n",
        "    text = \"\\n\".join([page.get_text(\"text\") for page in doc])\n",
        "\n",
        "    text = re.sub(r'\\b\\d+\\b', '', text)\n",
        "\n",
        "    return text\n",
        "\n",
        "model = hub.load(\"https://tfhub.dev/google/universal-sentence-encoder-large/5\")\n",
        "\n",
        "def create_embeddings(text):\n",
        "    sentences = sent_tokenize(text)\n",
        "    embeddings = model(sentences).numpy()\n",
        "    return sentences, embeddings\n",
        "\n",
        "class KnowledgeBase:\n",
        "    def __init__(self, text):\n",
        "        self.sentences, self.embeddings = create_embeddings(text)\n",
        "        self.index = faiss.IndexHNSWFlat(self.embeddings.shape[1], 32)\n",
        "        self.index.add(np.array(self.embeddings))\n",
        "        self.conversation_history = []\n",
        "        self.previous_responses = set()\n",
        "\n",
        "    def query(self, question, top_k=3):\n",
        "        self.conversation_history.append(question)\n",
        "\n",
        "        greetings = [\"hello\", \"hi\", \"hey\", \"hola\", \"greetings\"]\n",
        "        greeting_responses = [\"Hello! How can I assist you?\", \"Hi there! What can I do for you?\", \"Hey! Need any help?\", \"Hello! Ask me anything about GIFT City.\"]\n",
        "        if question.lower() in greetings:\n",
        "            return random.choice(greeting_responses)\n",
        "\n",
        "        question_embedding = model([question]).numpy()\n",
        "        distances, indices = self.index.search(question_embedding, top_k)\n",
        "        retrieved_sentences = [self.sentences[i] for i in indices[0]]\n",
        "\n",
        "        best_answer = self.select_best_answer(retrieved_sentences)\n",
        "\n",
        "        if not best_answer.strip() or best_answer in self.previous_responses:\n",
        "            best_answer = self.get_fallback_response()\n",
        "\n",
        "        self.previous_responses.add(best_answer)\n",
        "        return best_answer\n",
        "\n",
        "    def select_best_answer(self, sentences):\n",
        "        filtered_sentences = [s for s in sentences if len(s.split()) > 5]\n",
        "        if filtered_sentences:\n",
        "            for sentence in filtered_sentences:\n",
        "                if sentence not in self.previous_responses:\n",
        "                    return sentence\n",
        "        return \"\"\n",
        "\n",
        "    def get_fallback_response(self):\n",
        "        return \"I'm not sure about that. Can you ask something else related to GIFT City?\"\n",
        "\n",
        "if __name__ == \"__main__\":\n",
        "    pdf_path = \"gift.pdf\"\n",
        "    text = extract_text_from_pdf(pdf_path)\n",
        "    kb = KnowledgeBase(text)\n",
        "\n",
        "    print(\"\\nChatbot: Hey there! How can I help you today?.\\n\")\n",
        "\n",
        "    while True:\n",
        "        user_input = input(\"You: \")\n",
        "        if user_input.lower() in [\"exit\", \"quit\", \"bye\"]:\n",
        "            print(\"\\nChatbot: Goodbye! Have a great day!\\n\")\n",
        "            break\n",
        "        response = kb.query(user_input)\n",
        "        print(\"\\nChatbot:\\n\")\n",
        "        print(response)\n",
        "        print(\"\\n\" + \"-\" * 50 + \"\\n\")\n"
      ]
    }
  ]
}